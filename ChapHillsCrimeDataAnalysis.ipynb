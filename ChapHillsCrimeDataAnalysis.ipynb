{
 "cells": [
  {
   "cell_type": "markdown",
   "metadata": {},
   "source": [
    "# Project 3 : Chapel Hill Crime and Police Data"
   ]
  },
  {
   "cell_type": "markdown",
   "metadata": {},
   "source": [
    "Proposal\n",
    "\n",
    "Data Set Description : Chapel Hill Crime and Police Data\n",
    "\n",
    "These sets of datasets will focus on datasets gathered from Chapel Hill Open Data, which is managed and run by the town of chapel hill. \n",
    "This readme is a compilation of information that represents what each file will be about. \n",
    "Most of the datasets can be understood by reading the summary page from the Chapel Hill Open Data website \n",
    "\n",
    "There are multiple data sets in this data. I found relations between some of these data sets and I am going to make an hypothesis and raised some questions which will be solved \n",
    "by jupiter codes. \n",
    "\n",
    "Project proposal includes data source location : \n",
    "\n",
    "Data Source Location  : \n",
    "\n",
    "1. Search for Data.world in google\n",
    "2. Create your account in Data.world\n",
    "3. Search for Crime in search bar and then click on the first result appeared which will navigate to https://data.world/cdc2019/crime link.\n",
    "4. Click on downlaod and then download all files. A zip file is downloaded with multiple data sets. \n",
    "5. From that zip file I am using 'Police Incidents Reports Written' and 'Police Arrests Made'.\n",
    "\n",
    "Note : I might use all files for extra hypothesis and questions. But for the mentioned question and hypothesis I am using the above mentioned files.\n",
    "\n",
    "\n",
    "Describe how data source was discovered ? \n",
    "I googled 'Data.world' and then I searched for Crime in searchbar. From the results I selected https://data.world/cdc2019/crime.\n",
    "I discovered this website during Project 1. \n",
    "\n",
    "EDA and Accessabiltiy:\n",
    "Data is legally acessable and free to download but you might have to create account.\n",
    "Documented EDA is not available. Only, Description of the data set is given in the website and in Kaggle. There is no code related to this project. \n",
    "Visualizations might be present but these are not at all related to my proposal. \n",
    "\n",
    "Project proposal relevant to Data 601 objectives ? \n",
    "This Data set is totally related to the objectives we learnt in DATA 601. \n",
    "There is so much of scope for data cleaning, charecterization and visualization. \n",
    "Also, lots of hypothesis can be concluded by seeing this data Sets.\n",
    "Most importantly, a relation could be found between the data sets. \n",
    "\n",
    "Does student understand the stories in the data?\n",
    "I don't have any specific experience related to this csv file. But, the other two projects I worked with made me similar to these kind of csv files. \n",
    "\n",
    "Data Size : \n",
    "'Police Incidents Reports Written.CSV' : \n",
    "Columns: 18\n",
    "Rows : 70,000 \n",
    "Size : 11 MB\n",
    "\n",
    "'Police Arrests Made.CSV': \n",
    "Columns: 12\n",
    "Rows : 16040 \n",
    "Size : 1.84 MB\n",
    "Comibned data has more than 10 cloumns and 1000 rows. \n",
    "\n",
    "Questions to be investigated :\n",
    "From 'Police Incidents Reports Written' and 'Police Arrests Made' : \n",
    "How many of the incidents reported in the year of 2019, 2018 and 2017 have ended up in arrests ? \n",
    "The answer could be in percentage or a quantiative number \n",
    "\n",
    "Hypothesis : \n",
    "The majority victims of black race would be white race.I am making an hyothiesis that black race people are more friendly towards their own race. \n",
    "So this means that most of the arrests made of black people, their victims would be white race or any other race. \n",
    "\n",
    "This means that, there is a more chance that a black person robs white person instead of a black person. This vice versa may or may not be true.\n",
    "  \n"
   ]
  },
  {
   "cell_type": "markdown",
   "metadata": {},
   "source": [
    "## Programmatic Approach"
   ]
  },
  {
   "cell_type": "markdown",
   "metadata": {},
   "source": [
    "Missingo Source : https://www.geeksforgeeks.org/python-visualize-missing-values-nan-values-using-missingno-library/\n",
    "\n",
    "This library offers a very nice way to visualize the distribution of NaN values. Missingno is a Python library and compatible with Pandas."
   ]
  },
  {
   "cell_type": "code",
   "execution_count": 1,
   "metadata": {},
   "outputs": [
    {
     "name": "stdout",
     "output_type": "stream",
     "text": [
      "Requirement already satisfied: missingno in c:\\users\\16692\\anaconda3\\lib\\site-packages (0.4.2)\n",
      "Requirement already satisfied: matplotlib in c:\\users\\16692\\anaconda3\\lib\\site-packages (from missingno) (3.1.1)\n",
      "Requirement already satisfied: seaborn in c:\\users\\16692\\anaconda3\\lib\\site-packages (from missingno) (0.9.0)\n",
      "Requirement already satisfied: scipy in c:\\users\\16692\\anaconda3\\lib\\site-packages (from missingno) (1.3.1)\n",
      "Requirement already satisfied: numpy in c:\\users\\16692\\anaconda3\\lib\\site-packages (from missingno) (1.16.5)\n",
      "Requirement already satisfied: cycler>=0.10 in c:\\users\\16692\\anaconda3\\lib\\site-packages (from matplotlib->missingno) (0.10.0)\n",
      "Requirement already satisfied: kiwisolver>=1.0.1 in c:\\users\\16692\\anaconda3\\lib\\site-packages (from matplotlib->missingno) (1.1.0)\n",
      "Requirement already satisfied: pyparsing!=2.0.4,!=2.1.2,!=2.1.6,>=2.0.1 in c:\\users\\16692\\anaconda3\\lib\\site-packages (from matplotlib->missingno) (2.4.2)\n",
      "Requirement already satisfied: python-dateutil>=2.1 in c:\\users\\16692\\anaconda3\\lib\\site-packages (from matplotlib->missingno) (2.8.0)\n",
      "Requirement already satisfied: pandas>=0.15.2 in c:\\users\\16692\\anaconda3\\lib\\site-packages (from seaborn->missingno) (0.25.1)\n",
      "Requirement already satisfied: six in c:\\users\\16692\\anaconda3\\lib\\site-packages (from cycler>=0.10->matplotlib->missingno) (1.12.0)\n",
      "Requirement already satisfied: setuptools in c:\\users\\16692\\anaconda3\\lib\\site-packages (from kiwisolver>=1.0.1->matplotlib->missingno) (41.4.0)\n",
      "Requirement already satisfied: pytz>=2017.2 in c:\\users\\16692\\anaconda3\\lib\\site-packages (from pandas>=0.15.2->seaborn->missingno) (2019.3)\n"
     ]
    }
   ],
   "source": [
    "#Installing missingo library\n",
    "!pip install missingno"
   ]
  },
  {
   "cell_type": "markdown",
   "metadata": {},
   "source": [
    "The below cell imports all the required modules. "
   ]
  },
  {
   "cell_type": "code",
   "execution_count": 2,
   "metadata": {},
   "outputs": [],
   "source": [
    "import pandas as pd\n",
    "import datetime as dateFormat\n",
    "import matplotlib.pyplot as plt\n",
    "import numpy as np \n",
    "import seaborn as sns\n",
    "import missingno as msno\n",
    "import calendar"
   ]
  },
  {
   "cell_type": "markdown",
   "metadata": {},
   "source": [
    "The below codes load the data sets from the websites itself. By examining the data set offline, I found that read_csv needs delimiterds as ';'. read_csv() enables the system to read the data from web urls."
   ]
  },
  {
   "cell_type": "code",
   "execution_count": 3,
   "metadata": {},
   "outputs": [],
   "source": [
    "# Loading the first data from web url and seperating them by delimiters\n",
    "Incidentswritten = pd.read_csv('https://www.chapelhillopendata.org/explore/dataset/police-incident-reports-written/download/?format=csv&timezone=America/New_York&use_labels_for_header=true&csv_separator=%3B',sep=';' , engine='python')"
   ]
  },
  {
   "cell_type": "code",
   "execution_count": 4,
   "metadata": {},
   "outputs": [],
   "source": [
    "# Loading the second data from web url and seperating them by delimiters\n",
    "ArrestsMade = pd.read_csv('https://www.chapelhillopendata.org/explore/dataset/police-arrests-made/download/?format=csv&timezone=America/New_York&use_labels_for_header=true&csv_separator=%3B',sep=';',engine='python')"
   ]
  },
  {
   "cell_type": "code",
   "execution_count": 5,
   "metadata": {},
   "outputs": [
    {
     "data": {
      "text/html": [
       "<div>\n",
       "<style scoped>\n",
       "    .dataframe tbody tr th:only-of-type {\n",
       "        vertical-align: middle;\n",
       "    }\n",
       "\n",
       "    .dataframe tbody tr th {\n",
       "        vertical-align: top;\n",
       "    }\n",
       "\n",
       "    .dataframe thead th {\n",
       "        text-align: right;\n",
       "    }\n",
       "</style>\n",
       "<table border=\"1\" class=\"dataframe\">\n",
       "  <thead>\n",
       "    <tr style=\"text-align: right;\">\n",
       "      <th></th>\n",
       "      <th>Incident ID</th>\n",
       "      <th>Agency</th>\n",
       "      <th>Offense</th>\n",
       "      <th>Street</th>\n",
       "      <th>City</th>\n",
       "      <th>State</th>\n",
       "      <th>Zipcode</th>\n",
       "      <th>Forcible</th>\n",
       "      <th>Date of Report</th>\n",
       "      <th>Hour of Report</th>\n",
       "      <th>...</th>\n",
       "      <th>Hour of Occurrence</th>\n",
       "      <th>Date Found</th>\n",
       "      <th>Hour Found</th>\n",
       "      <th>Reported As</th>\n",
       "      <th>Premise Description</th>\n",
       "      <th>Weapon Description</th>\n",
       "      <th>Victim Age</th>\n",
       "      <th>Victim Race</th>\n",
       "      <th>Victim Gender</th>\n",
       "      <th>latitude_longitude</th>\n",
       "    </tr>\n",
       "  </thead>\n",
       "  <tbody>\n",
       "    <tr>\n",
       "      <td>0</td>\n",
       "      <td>173901</td>\n",
       "      <td>CHPD</td>\n",
       "      <td>B.A.R.S.  TRAINING</td>\n",
       "      <td>138 E FRANKLIN ST</td>\n",
       "      <td>CHAPEL HILL</td>\n",
       "      <td>NC</td>\n",
       "      <td>27514.0</td>\n",
       "      <td>NaN</td>\n",
       "      <td>2019-08-26</td>\n",
       "      <td>6:51 PM</td>\n",
       "      <td>...</td>\n",
       "      <td>6:51 PM</td>\n",
       "      <td>2019-08-26</td>\n",
       "      <td>6:51 PM</td>\n",
       "      <td>MISC OFFICER IN</td>\n",
       "      <td>NaN</td>\n",
       "      <td>NaN</td>\n",
       "      <td>NaN</td>\n",
       "      <td>NaN</td>\n",
       "      <td>NaN</td>\n",
       "      <td>35.913620862,-79.054450482</td>\n",
       "    </tr>\n",
       "    <tr>\n",
       "      <td>1</td>\n",
       "      <td>173853</td>\n",
       "      <td>CHPD</td>\n",
       "      <td>LARCENY OF CELL PHONE</td>\n",
       "      <td>409 W FRANKLIN ST</td>\n",
       "      <td>CHAPEL HILL</td>\n",
       "      <td>NC</td>\n",
       "      <td>27516.0</td>\n",
       "      <td>NaN</td>\n",
       "      <td>2019-08-25</td>\n",
       "      <td>6:30 AM</td>\n",
       "      <td>...</td>\n",
       "      <td>6:00 AM</td>\n",
       "      <td>2019-08-25</td>\n",
       "      <td>6:00 AM</td>\n",
       "      <td>THEFT/LARCENY</td>\n",
       "      <td>NaN</td>\n",
       "      <td>NaN</td>\n",
       "      <td>42.0</td>\n",
       "      <td>W</td>\n",
       "      <td>M</td>\n",
       "      <td>35.910999851,-79.061257657</td>\n",
       "    </tr>\n",
       "    <tr>\n",
       "      <td>2</td>\n",
       "      <td>173873</td>\n",
       "      <td>CHPD</td>\n",
       "      <td>SIMPLE POSSESSION</td>\n",
       "      <td>1050 MARTIN LUTHER KING JR BLVD/SHADOWOOD DR</td>\n",
       "      <td>CHAPEL HILL</td>\n",
       "      <td>NC</td>\n",
       "      <td>27514.0</td>\n",
       "      <td>NaN</td>\n",
       "      <td>2019-08-25</td>\n",
       "      <td>9:44 PM</td>\n",
       "      <td>...</td>\n",
       "      <td>9:44 PM</td>\n",
       "      <td>2019-08-25</td>\n",
       "      <td>9:44 PM</td>\n",
       "      <td>TRAFFIC STOP</td>\n",
       "      <td>NaN</td>\n",
       "      <td>NaN</td>\n",
       "      <td>NaN</td>\n",
       "      <td>NaN</td>\n",
       "      <td>NaN</td>\n",
       "      <td>35.936784,-79.056441</td>\n",
       "    </tr>\n",
       "    <tr>\n",
       "      <td>3</td>\n",
       "      <td>173869</td>\n",
       "      <td>CHPD</td>\n",
       "      <td>VIOLATION OF CUSTODY AGREEMENT</td>\n",
       "      <td>1100 NC 54</td>\n",
       "      <td>CHAPEL HILL</td>\n",
       "      <td>NC</td>\n",
       "      <td>27516.0</td>\n",
       "      <td>NaN</td>\n",
       "      <td>2019-08-25</td>\n",
       "      <td>5:40 PM</td>\n",
       "      <td>...</td>\n",
       "      <td>5:40 PM</td>\n",
       "      <td>2019-08-25</td>\n",
       "      <td>5:40 PM</td>\n",
       "      <td>PUBLIC SERVICE</td>\n",
       "      <td>NaN</td>\n",
       "      <td>NaN</td>\n",
       "      <td>48.0</td>\n",
       "      <td>W</td>\n",
       "      <td>F</td>\n",
       "      <td>35.92490164,-79.138013157</td>\n",
       "    </tr>\n",
       "    <tr>\n",
       "      <td>4</td>\n",
       "      <td>173867</td>\n",
       "      <td>CHPD</td>\n",
       "      <td>TOWED VEHICLE</td>\n",
       "      <td>200 E FRANKLIN ST</td>\n",
       "      <td>CHAPEL HILL</td>\n",
       "      <td>NC</td>\n",
       "      <td>27514.0</td>\n",
       "      <td>NaN</td>\n",
       "      <td>2019-08-25</td>\n",
       "      <td>4:17 PM</td>\n",
       "      <td>...</td>\n",
       "      <td>4:17 PM</td>\n",
       "      <td>2019-08-25</td>\n",
       "      <td>4:17 PM</td>\n",
       "      <td>MISC OFFICER IN</td>\n",
       "      <td>NaN</td>\n",
       "      <td>NaN</td>\n",
       "      <td>NaN</td>\n",
       "      <td>NaN</td>\n",
       "      <td>NaN</td>\n",
       "      <td>35.914219462,-79.052808532</td>\n",
       "    </tr>\n",
       "  </tbody>\n",
       "</table>\n",
       "<p>5 rows × 21 columns</p>\n",
       "</div>"
      ],
      "text/plain": [
       "   Incident ID Agency                         Offense  \\\n",
       "0       173901   CHPD              B.A.R.S.  TRAINING   \n",
       "1       173853   CHPD           LARCENY OF CELL PHONE   \n",
       "2       173873   CHPD               SIMPLE POSSESSION   \n",
       "3       173869   CHPD  VIOLATION OF CUSTODY AGREEMENT   \n",
       "4       173867   CHPD                   TOWED VEHICLE   \n",
       "\n",
       "                                         Street         City State  Zipcode  \\\n",
       "0                             138 E FRANKLIN ST  CHAPEL HILL    NC  27514.0   \n",
       "1                             409 W FRANKLIN ST  CHAPEL HILL    NC  27516.0   \n",
       "2  1050 MARTIN LUTHER KING JR BLVD/SHADOWOOD DR  CHAPEL HILL    NC  27514.0   \n",
       "3                                    1100 NC 54  CHAPEL HILL    NC  27516.0   \n",
       "4                             200 E FRANKLIN ST  CHAPEL HILL    NC  27514.0   \n",
       "\n",
       "  Forcible Date of Report Hour of Report  ... Hour of Occurrence  Date Found  \\\n",
       "0      NaN     2019-08-26        6:51 PM  ...            6:51 PM  2019-08-26   \n",
       "1      NaN     2019-08-25        6:30 AM  ...            6:00 AM  2019-08-25   \n",
       "2      NaN     2019-08-25        9:44 PM  ...            9:44 PM  2019-08-25   \n",
       "3      NaN     2019-08-25        5:40 PM  ...            5:40 PM  2019-08-25   \n",
       "4      NaN     2019-08-25        4:17 PM  ...            4:17 PM  2019-08-25   \n",
       "\n",
       "  Hour Found      Reported As Premise Description Weapon Description  \\\n",
       "0    6:51 PM  MISC OFFICER IN                 NaN                NaN   \n",
       "1    6:00 AM    THEFT/LARCENY                 NaN                NaN   \n",
       "2    9:44 PM     TRAFFIC STOP                 NaN                NaN   \n",
       "3    5:40 PM   PUBLIC SERVICE                 NaN                NaN   \n",
       "4    4:17 PM  MISC OFFICER IN                 NaN                NaN   \n",
       "\n",
       "  Victim Age  Victim Race Victim Gender          latitude_longitude  \n",
       "0        NaN          NaN           NaN  35.913620862,-79.054450482  \n",
       "1       42.0            W             M  35.910999851,-79.061257657  \n",
       "2        NaN          NaN           NaN        35.936784,-79.056441  \n",
       "3       48.0            W             F   35.92490164,-79.138013157  \n",
       "4        NaN          NaN           NaN  35.914219462,-79.052808532  \n",
       "\n",
       "[5 rows x 21 columns]"
      ]
     },
     "execution_count": 5,
     "metadata": {},
     "output_type": "execute_result"
    }
   ],
   "source": [
    "# Displaying the data set\n",
    "Incidentswritten.head()"
   ]
  },
  {
   "cell_type": "code",
   "execution_count": 6,
   "metadata": {},
   "outputs": [
    {
     "data": {
      "text/plain": [
       "(71196, 21)"
      ]
     },
     "execution_count": 6,
     "metadata": {},
     "output_type": "execute_result"
    }
   ],
   "source": [
    "Incidentswritten.shape"
   ]
  },
  {
   "cell_type": "markdown",
   "metadata": {},
   "source": [
    "The below code prints out all the data types of each an every column of a particular data set."
   ]
  },
  {
   "cell_type": "code",
   "execution_count": 7,
   "metadata": {},
   "outputs": [
    {
     "data": {
      "text/plain": [
       "Incident ID              int64\n",
       "Agency                  object\n",
       "Offense                 object\n",
       "Street                  object\n",
       "City                    object\n",
       "State                   object\n",
       "Zipcode                float64\n",
       "Forcible                object\n",
       "Date of Report          object\n",
       "Hour of Report          object\n",
       "Date of Occurrence      object\n",
       "Hour of Occurrence      object\n",
       "Date Found              object\n",
       "Hour Found              object\n",
       "Reported As             object\n",
       "Premise Description     object\n",
       "Weapon Description      object\n",
       "Victim Age             float64\n",
       "Victim Race             object\n",
       "Victim Gender           object\n",
       "latitude_longitude      object\n",
       "dtype: object"
      ]
     },
     "execution_count": 7,
     "metadata": {},
     "output_type": "execute_result"
    }
   ],
   "source": [
    "Incidentswritten.dtypes"
   ]
  },
  {
   "cell_type": "markdown",
   "metadata": {},
   "source": [
    "The below code converts the data tytpe of the date of report column to datetime. to_datetime() helps to convert any format to datetime format."
   ]
  },
  {
   "cell_type": "code",
   "execution_count": 8,
   "metadata": {},
   "outputs": [],
   "source": [
    "#Converting the data type and saving the changes to the same data frame\n",
    "Incidentswritten['Date of Report'] = pd.to_datetime(Incidentswritten['Date of Report'])"
   ]
  },
  {
   "cell_type": "code",
   "execution_count": 9,
   "metadata": {},
   "outputs": [],
   "source": [
    "# This code adds an extra column to the end of the data frame. This column is year and is used to find out the results.\n",
    "Incidentswritten['Year'] = Incidentswritten['Date of Report'].dt.year"
   ]
  },
  {
   "cell_type": "code",
   "execution_count": 10,
   "metadata": {},
   "outputs": [
    {
     "data": {
      "text/html": [
       "<div>\n",
       "<style scoped>\n",
       "    .dataframe tbody tr th:only-of-type {\n",
       "        vertical-align: middle;\n",
       "    }\n",
       "\n",
       "    .dataframe tbody tr th {\n",
       "        vertical-align: top;\n",
       "    }\n",
       "\n",
       "    .dataframe thead th {\n",
       "        text-align: right;\n",
       "    }\n",
       "</style>\n",
       "<table border=\"1\" class=\"dataframe\">\n",
       "  <thead>\n",
       "    <tr style=\"text-align: right;\">\n",
       "      <th></th>\n",
       "      <th>Incident ID</th>\n",
       "      <th>Agency</th>\n",
       "      <th>Offense</th>\n",
       "      <th>Street</th>\n",
       "      <th>City</th>\n",
       "      <th>State</th>\n",
       "      <th>Zipcode</th>\n",
       "      <th>Forcible</th>\n",
       "      <th>Date of Report</th>\n",
       "      <th>Hour of Report</th>\n",
       "      <th>...</th>\n",
       "      <th>Date Found</th>\n",
       "      <th>Hour Found</th>\n",
       "      <th>Reported As</th>\n",
       "      <th>Premise Description</th>\n",
       "      <th>Weapon Description</th>\n",
       "      <th>Victim Age</th>\n",
       "      <th>Victim Race</th>\n",
       "      <th>Victim Gender</th>\n",
       "      <th>latitude_longitude</th>\n",
       "      <th>Year</th>\n",
       "    </tr>\n",
       "  </thead>\n",
       "  <tbody>\n",
       "    <tr>\n",
       "      <td>0</td>\n",
       "      <td>173901</td>\n",
       "      <td>CHPD</td>\n",
       "      <td>B.A.R.S.  TRAINING</td>\n",
       "      <td>138 E FRANKLIN ST</td>\n",
       "      <td>CHAPEL HILL</td>\n",
       "      <td>NC</td>\n",
       "      <td>27514.0</td>\n",
       "      <td>NaN</td>\n",
       "      <td>2019-08-26</td>\n",
       "      <td>6:51 PM</td>\n",
       "      <td>...</td>\n",
       "      <td>2019-08-26</td>\n",
       "      <td>6:51 PM</td>\n",
       "      <td>MISC OFFICER IN</td>\n",
       "      <td>NaN</td>\n",
       "      <td>NaN</td>\n",
       "      <td>NaN</td>\n",
       "      <td>NaN</td>\n",
       "      <td>NaN</td>\n",
       "      <td>35.913620862,-79.054450482</td>\n",
       "      <td>2019</td>\n",
       "    </tr>\n",
       "    <tr>\n",
       "      <td>1</td>\n",
       "      <td>173853</td>\n",
       "      <td>CHPD</td>\n",
       "      <td>LARCENY OF CELL PHONE</td>\n",
       "      <td>409 W FRANKLIN ST</td>\n",
       "      <td>CHAPEL HILL</td>\n",
       "      <td>NC</td>\n",
       "      <td>27516.0</td>\n",
       "      <td>NaN</td>\n",
       "      <td>2019-08-25</td>\n",
       "      <td>6:30 AM</td>\n",
       "      <td>...</td>\n",
       "      <td>2019-08-25</td>\n",
       "      <td>6:00 AM</td>\n",
       "      <td>THEFT/LARCENY</td>\n",
       "      <td>NaN</td>\n",
       "      <td>NaN</td>\n",
       "      <td>42.0</td>\n",
       "      <td>W</td>\n",
       "      <td>M</td>\n",
       "      <td>35.910999851,-79.061257657</td>\n",
       "      <td>2019</td>\n",
       "    </tr>\n",
       "    <tr>\n",
       "      <td>2</td>\n",
       "      <td>173873</td>\n",
       "      <td>CHPD</td>\n",
       "      <td>SIMPLE POSSESSION</td>\n",
       "      <td>1050 MARTIN LUTHER KING JR BLVD/SHADOWOOD DR</td>\n",
       "      <td>CHAPEL HILL</td>\n",
       "      <td>NC</td>\n",
       "      <td>27514.0</td>\n",
       "      <td>NaN</td>\n",
       "      <td>2019-08-25</td>\n",
       "      <td>9:44 PM</td>\n",
       "      <td>...</td>\n",
       "      <td>2019-08-25</td>\n",
       "      <td>9:44 PM</td>\n",
       "      <td>TRAFFIC STOP</td>\n",
       "      <td>NaN</td>\n",
       "      <td>NaN</td>\n",
       "      <td>NaN</td>\n",
       "      <td>NaN</td>\n",
       "      <td>NaN</td>\n",
       "      <td>35.936784,-79.056441</td>\n",
       "      <td>2019</td>\n",
       "    </tr>\n",
       "    <tr>\n",
       "      <td>3</td>\n",
       "      <td>173869</td>\n",
       "      <td>CHPD</td>\n",
       "      <td>VIOLATION OF CUSTODY AGREEMENT</td>\n",
       "      <td>1100 NC 54</td>\n",
       "      <td>CHAPEL HILL</td>\n",
       "      <td>NC</td>\n",
       "      <td>27516.0</td>\n",
       "      <td>NaN</td>\n",
       "      <td>2019-08-25</td>\n",
       "      <td>5:40 PM</td>\n",
       "      <td>...</td>\n",
       "      <td>2019-08-25</td>\n",
       "      <td>5:40 PM</td>\n",
       "      <td>PUBLIC SERVICE</td>\n",
       "      <td>NaN</td>\n",
       "      <td>NaN</td>\n",
       "      <td>48.0</td>\n",
       "      <td>W</td>\n",
       "      <td>F</td>\n",
       "      <td>35.92490164,-79.138013157</td>\n",
       "      <td>2019</td>\n",
       "    </tr>\n",
       "    <tr>\n",
       "      <td>4</td>\n",
       "      <td>173867</td>\n",
       "      <td>CHPD</td>\n",
       "      <td>TOWED VEHICLE</td>\n",
       "      <td>200 E FRANKLIN ST</td>\n",
       "      <td>CHAPEL HILL</td>\n",
       "      <td>NC</td>\n",
       "      <td>27514.0</td>\n",
       "      <td>NaN</td>\n",
       "      <td>2019-08-25</td>\n",
       "      <td>4:17 PM</td>\n",
       "      <td>...</td>\n",
       "      <td>2019-08-25</td>\n",
       "      <td>4:17 PM</td>\n",
       "      <td>MISC OFFICER IN</td>\n",
       "      <td>NaN</td>\n",
       "      <td>NaN</td>\n",
       "      <td>NaN</td>\n",
       "      <td>NaN</td>\n",
       "      <td>NaN</td>\n",
       "      <td>35.914219462,-79.052808532</td>\n",
       "      <td>2019</td>\n",
       "    </tr>\n",
       "  </tbody>\n",
       "</table>\n",
       "<p>5 rows × 22 columns</p>\n",
       "</div>"
      ],
      "text/plain": [
       "   Incident ID Agency                         Offense  \\\n",
       "0       173901   CHPD              B.A.R.S.  TRAINING   \n",
       "1       173853   CHPD           LARCENY OF CELL PHONE   \n",
       "2       173873   CHPD               SIMPLE POSSESSION   \n",
       "3       173869   CHPD  VIOLATION OF CUSTODY AGREEMENT   \n",
       "4       173867   CHPD                   TOWED VEHICLE   \n",
       "\n",
       "                                         Street         City State  Zipcode  \\\n",
       "0                             138 E FRANKLIN ST  CHAPEL HILL    NC  27514.0   \n",
       "1                             409 W FRANKLIN ST  CHAPEL HILL    NC  27516.0   \n",
       "2  1050 MARTIN LUTHER KING JR BLVD/SHADOWOOD DR  CHAPEL HILL    NC  27514.0   \n",
       "3                                    1100 NC 54  CHAPEL HILL    NC  27516.0   \n",
       "4                             200 E FRANKLIN ST  CHAPEL HILL    NC  27514.0   \n",
       "\n",
       "  Forcible Date of Report Hour of Report  ...  Date Found Hour Found  \\\n",
       "0      NaN     2019-08-26        6:51 PM  ...  2019-08-26    6:51 PM   \n",
       "1      NaN     2019-08-25        6:30 AM  ...  2019-08-25    6:00 AM   \n",
       "2      NaN     2019-08-25        9:44 PM  ...  2019-08-25    9:44 PM   \n",
       "3      NaN     2019-08-25        5:40 PM  ...  2019-08-25    5:40 PM   \n",
       "4      NaN     2019-08-25        4:17 PM  ...  2019-08-25    4:17 PM   \n",
       "\n",
       "       Reported As Premise Description Weapon Description Victim Age  \\\n",
       "0  MISC OFFICER IN                 NaN                NaN        NaN   \n",
       "1    THEFT/LARCENY                 NaN                NaN       42.0   \n",
       "2     TRAFFIC STOP                 NaN                NaN        NaN   \n",
       "3   PUBLIC SERVICE                 NaN                NaN       48.0   \n",
       "4  MISC OFFICER IN                 NaN                NaN        NaN   \n",
       "\n",
       "  Victim Race  Victim Gender          latitude_longitude  Year  \n",
       "0         NaN            NaN  35.913620862,-79.054450482  2019  \n",
       "1           W              M  35.910999851,-79.061257657  2019  \n",
       "2         NaN            NaN        35.936784,-79.056441  2019  \n",
       "3           W              F   35.92490164,-79.138013157  2019  \n",
       "4         NaN            NaN  35.914219462,-79.052808532  2019  \n",
       "\n",
       "[5 rows x 22 columns]"
      ]
     },
     "execution_count": 10,
     "metadata": {},
     "output_type": "execute_result"
    }
   ],
   "source": [
    "# Displaying the data set after converting and adding the year column.\n",
    "Incidentswritten.head()"
   ]
  },
  {
   "cell_type": "markdown",
   "metadata": {},
   "source": [
    "Since I need only incident Id's for first question, I am not chainging any columns. But, the values are cleaned for the hypothesis purpose in the later part of the code. "
   ]
  },
  {
   "cell_type": "code",
   "execution_count": 11,
   "metadata": {},
   "outputs": [
    {
     "data": {
      "text/plain": [
       "Incident ID                0\n",
       "Agency                     0\n",
       "Offense                    0\n",
       "Street                     0\n",
       "City                     102\n",
       "State                    404\n",
       "Zipcode                 1437\n",
       "Forcible               17373\n",
       "Date of Report             0\n",
       "Hour of Report             0\n",
       "Date of Occurrence         0\n",
       "Hour of Occurrence         0\n",
       "Date Found                 0\n",
       "Hour Found                 0\n",
       "Reported As            38965\n",
       "Premise Description     5104\n",
       "Weapon Description     70604\n",
       "Victim Age             41449\n",
       "Victim Race            32002\n",
       "Victim Gender          31831\n",
       "latitude_longitude         1\n",
       "Year                       0\n",
       "dtype: int64"
      ]
     },
     "execution_count": 11,
     "metadata": {},
     "output_type": "execute_result"
    }
   ],
   "source": [
    "# Checking for null values per coulmn in the first data set. \n",
    "\n",
    "Incidentswritten.isnull().sum()"
   ]
  },
  {
   "cell_type": "code",
   "execution_count": 12,
   "metadata": {},
   "outputs": [],
   "source": [
    "# grouping the dat sets w.r.t year\n",
    "g1 = Incidentswritten.groupby([ \"Year\"]).count().reset_index()"
   ]
  },
  {
   "cell_type": "markdown",
   "metadata": {},
   "source": [
    "A new data set is created to copy the drouped values. This data sets holds the year values and total count of incident ids."
   ]
  },
  {
   "cell_type": "code",
   "execution_count": 13,
   "metadata": {},
   "outputs": [],
   "source": [
    "#finalIncidentswrittenData is the new data set.\n",
    "# The coulumns are copied from the grouped data set.\n",
    "finalIncidentswrittenData = pd.DataFrame()\n",
    "finalIncidentswrittenData['Year'] = g1['Year']\n",
    "finalIncidentswrittenData ['Incidents'] = g1['Incident ID']"
   ]
  },
  {
   "cell_type": "code",
   "execution_count": 14,
   "metadata": {},
   "outputs": [
    {
     "data": {
      "text/html": [
       "<div>\n",
       "<style scoped>\n",
       "    .dataframe tbody tr th:only-of-type {\n",
       "        vertical-align: middle;\n",
       "    }\n",
       "\n",
       "    .dataframe tbody tr th {\n",
       "        vertical-align: top;\n",
       "    }\n",
       "\n",
       "    .dataframe thead th {\n",
       "        text-align: right;\n",
       "    }\n",
       "</style>\n",
       "<table border=\"1\" class=\"dataframe\">\n",
       "  <thead>\n",
       "    <tr style=\"text-align: right;\">\n",
       "      <th></th>\n",
       "      <th>Year</th>\n",
       "      <th>Incidents</th>\n",
       "    </tr>\n",
       "  </thead>\n",
       "  <tbody>\n",
       "    <tr>\n",
       "      <td>0</td>\n",
       "      <td>2010</td>\n",
       "      <td>7051</td>\n",
       "    </tr>\n",
       "    <tr>\n",
       "      <td>1</td>\n",
       "      <td>2011</td>\n",
       "      <td>6837</td>\n",
       "    </tr>\n",
       "    <tr>\n",
       "      <td>2</td>\n",
       "      <td>2012</td>\n",
       "      <td>6875</td>\n",
       "    </tr>\n",
       "    <tr>\n",
       "      <td>3</td>\n",
       "      <td>2013</td>\n",
       "      <td>6908</td>\n",
       "    </tr>\n",
       "    <tr>\n",
       "      <td>4</td>\n",
       "      <td>2014</td>\n",
       "      <td>7031</td>\n",
       "    </tr>\n",
       "    <tr>\n",
       "      <td>5</td>\n",
       "      <td>2015</td>\n",
       "      <td>7720</td>\n",
       "    </tr>\n",
       "    <tr>\n",
       "      <td>6</td>\n",
       "      <td>2016</td>\n",
       "      <td>8647</td>\n",
       "    </tr>\n",
       "    <tr>\n",
       "      <td>7</td>\n",
       "      <td>2017</td>\n",
       "      <td>8138</td>\n",
       "    </tr>\n",
       "    <tr>\n",
       "      <td>8</td>\n",
       "      <td>2018</td>\n",
       "      <td>7458</td>\n",
       "    </tr>\n",
       "    <tr>\n",
       "      <td>9</td>\n",
       "      <td>2019</td>\n",
       "      <td>4531</td>\n",
       "    </tr>\n",
       "  </tbody>\n",
       "</table>\n",
       "</div>"
      ],
      "text/plain": [
       "   Year  Incidents\n",
       "0  2010       7051\n",
       "1  2011       6837\n",
       "2  2012       6875\n",
       "3  2013       6908\n",
       "4  2014       7031\n",
       "5  2015       7720\n",
       "6  2016       8647\n",
       "7  2017       8138\n",
       "8  2018       7458\n",
       "9  2019       4531"
      ]
     },
     "execution_count": 14,
     "metadata": {},
     "output_type": "execute_result"
    }
   ],
   "source": [
    "# Displaying the data sets. \n",
    "# This depicts the total number of incidents written by police department per year from 2010 to 2019\n",
    "finalIncidentswrittenData"
   ]
  },
  {
   "cell_type": "code",
   "execution_count": 15,
   "metadata": {},
   "outputs": [
    {
     "data": {
      "text/html": [
       "<div>\n",
       "<style scoped>\n",
       "    .dataframe tbody tr th:only-of-type {\n",
       "        vertical-align: middle;\n",
       "    }\n",
       "\n",
       "    .dataframe tbody tr th {\n",
       "        vertical-align: top;\n",
       "    }\n",
       "\n",
       "    .dataframe thead th {\n",
       "        text-align: right;\n",
       "    }\n",
       "</style>\n",
       "<table border=\"1\" class=\"dataframe\">\n",
       "  <thead>\n",
       "    <tr style=\"text-align: right;\">\n",
       "      <th></th>\n",
       "      <th>Incident Id</th>\n",
       "      <th>Primary Charge</th>\n",
       "      <th>Street</th>\n",
       "      <th>City</th>\n",
       "      <th>State</th>\n",
       "      <th>Zipcode</th>\n",
       "      <th>Date of Arrest</th>\n",
       "      <th>Time of Arrest</th>\n",
       "      <th>Age</th>\n",
       "      <th>Race</th>\n",
       "      <th>Gender</th>\n",
       "      <th>Ethnicity</th>\n",
       "      <th>Type of Arrest</th>\n",
       "      <th>Drugs or Alcohol Present</th>\n",
       "      <th>Weapon Present</th>\n",
       "      <th>Disposition</th>\n",
       "      <th>latitude_longitude</th>\n",
       "    </tr>\n",
       "  </thead>\n",
       "  <tbody>\n",
       "    <tr>\n",
       "      <td>0</td>\n",
       "      <td>40515</td>\n",
       "      <td>ASSAULT-SIMPLE</td>\n",
       "      <td>117 OLD DURHAM RD</td>\n",
       "      <td>CHAPEL HILL</td>\n",
       "      <td>NC</td>\n",
       "      <td>27517.0</td>\n",
       "      <td>2019-08-26</td>\n",
       "      <td>10:17 PM</td>\n",
       "      <td>25.0</td>\n",
       "      <td>W</td>\n",
       "      <td>F</td>\n",
       "      <td>N</td>\n",
       "      <td>ON VIEW</td>\n",
       "      <td>Y</td>\n",
       "      <td>UNARMED</td>\n",
       "      <td>CLEARED BY ARREST</td>\n",
       "      <td>35.94424056,-79.01174063</td>\n",
       "    </tr>\n",
       "    <tr>\n",
       "      <td>1</td>\n",
       "      <td>40498</td>\n",
       "      <td>FAIL TO APPEAR/COMPL</td>\n",
       "      <td>214 W ROSEMARY ST</td>\n",
       "      <td>CHAPEL HILL</td>\n",
       "      <td>NC</td>\n",
       "      <td>27516.0</td>\n",
       "      <td>2019-08-26</td>\n",
       "      <td>8:51 AM</td>\n",
       "      <td>27.0</td>\n",
       "      <td>B</td>\n",
       "      <td>M</td>\n",
       "      <td>N</td>\n",
       "      <td>TAKEN INTO CUSTODY (WARRANT/LP)</td>\n",
       "      <td>N</td>\n",
       "      <td>UNARMED</td>\n",
       "      <td>CLEARED BY ARREST</td>\n",
       "      <td>35.913341985,-79.058293957</td>\n",
       "    </tr>\n",
       "    <tr>\n",
       "      <td>2</td>\n",
       "      <td>40496</td>\n",
       "      <td>PUBLIC URINATION</td>\n",
       "      <td>107 EPHESUS CHURCH RD/LEGION RD</td>\n",
       "      <td>CHAPEL HILL</td>\n",
       "      <td>NC</td>\n",
       "      <td>27517.0</td>\n",
       "      <td>2019-08-26</td>\n",
       "      <td>8:15 PM</td>\n",
       "      <td>57.0</td>\n",
       "      <td>B</td>\n",
       "      <td>M</td>\n",
       "      <td>N</td>\n",
       "      <td>SUMMONED/CITED</td>\n",
       "      <td>Y</td>\n",
       "      <td>UNARMED</td>\n",
       "      <td>CLEARED BY ARREST</td>\n",
       "      <td>35.935056,-79.0219395</td>\n",
       "    </tr>\n",
       "    <tr>\n",
       "      <td>3</td>\n",
       "      <td>40497</td>\n",
       "      <td>AFFRAY/ASSAULT &amp; BATTERY</td>\n",
       "      <td>117 OLD DURHAM RD</td>\n",
       "      <td>CHAPEL HILL</td>\n",
       "      <td>NC</td>\n",
       "      <td>27517.0</td>\n",
       "      <td>2019-08-26</td>\n",
       "      <td>10:17 PM</td>\n",
       "      <td>55.0</td>\n",
       "      <td>B</td>\n",
       "      <td>M</td>\n",
       "      <td>N</td>\n",
       "      <td>ON VIEW</td>\n",
       "      <td>Y</td>\n",
       "      <td>UNARMED</td>\n",
       "      <td>CLEARED BY ARREST</td>\n",
       "      <td>35.94424056,-79.01174063</td>\n",
       "    </tr>\n",
       "    <tr>\n",
       "      <td>4</td>\n",
       "      <td>40495</td>\n",
       "      <td>ASSAULT-SIMPLE</td>\n",
       "      <td>233 MCCAULEY STREET</td>\n",
       "      <td>CHAPEL HILL</td>\n",
       "      <td>NC</td>\n",
       "      <td>27514.0</td>\n",
       "      <td>2019-08-26</td>\n",
       "      <td>7:27 AM</td>\n",
       "      <td>21.0</td>\n",
       "      <td>W</td>\n",
       "      <td>F</td>\n",
       "      <td>N</td>\n",
       "      <td>SUMMONED/CITED</td>\n",
       "      <td>N</td>\n",
       "      <td>UNARMED</td>\n",
       "      <td>CLEARED BY ARREST</td>\n",
       "      <td>35.907198362,-79.057233541</td>\n",
       "    </tr>\n",
       "  </tbody>\n",
       "</table>\n",
       "</div>"
      ],
      "text/plain": [
       "   Incident Id            Primary Charge                           Street  \\\n",
       "0        40515            ASSAULT-SIMPLE                117 OLD DURHAM RD   \n",
       "1        40498      FAIL TO APPEAR/COMPL                214 W ROSEMARY ST   \n",
       "2        40496          PUBLIC URINATION  107 EPHESUS CHURCH RD/LEGION RD   \n",
       "3        40497  AFFRAY/ASSAULT & BATTERY                117 OLD DURHAM RD   \n",
       "4        40495            ASSAULT-SIMPLE              233 MCCAULEY STREET   \n",
       "\n",
       "          City State  Zipcode Date of Arrest Time of Arrest   Age Race Gender  \\\n",
       "0  CHAPEL HILL    NC  27517.0     2019-08-26       10:17 PM  25.0    W      F   \n",
       "1  CHAPEL HILL    NC  27516.0     2019-08-26        8:51 AM  27.0    B      M   \n",
       "2  CHAPEL HILL    NC  27517.0     2019-08-26        8:15 PM  57.0    B      M   \n",
       "3  CHAPEL HILL    NC  27517.0     2019-08-26       10:17 PM  55.0    B      M   \n",
       "4  CHAPEL HILL    NC  27514.0     2019-08-26        7:27 AM  21.0    W      F   \n",
       "\n",
       "  Ethnicity                   Type of Arrest Drugs or Alcohol Present  \\\n",
       "0         N                          ON VIEW                        Y   \n",
       "1         N  TAKEN INTO CUSTODY (WARRANT/LP)                        N   \n",
       "2         N                   SUMMONED/CITED                        Y   \n",
       "3         N                          ON VIEW                        Y   \n",
       "4         N                   SUMMONED/CITED                        N   \n",
       "\n",
       "  Weapon Present        Disposition          latitude_longitude  \n",
       "0        UNARMED  CLEARED BY ARREST    35.94424056,-79.01174063  \n",
       "1        UNARMED  CLEARED BY ARREST  35.913341985,-79.058293957  \n",
       "2        UNARMED  CLEARED BY ARREST       35.935056,-79.0219395  \n",
       "3        UNARMED  CLEARED BY ARREST    35.94424056,-79.01174063  \n",
       "4        UNARMED  CLEARED BY ARREST  35.907198362,-79.057233541  "
      ]
     },
     "execution_count": 15,
     "metadata": {},
     "output_type": "execute_result"
    }
   ],
   "source": [
    "# Displaying the second data sets. \n",
    "ArrestsMade.head()"
   ]
  },
  {
   "cell_type": "code",
   "execution_count": 16,
   "metadata": {},
   "outputs": [],
   "source": [
    "#Converting the data sets column to date time\n",
    "ArrestsMade['Date of Arrest'] = pd.to_datetime(ArrestsMade['Date of Arrest'])"
   ]
  },
  {
   "cell_type": "code",
   "execution_count": 17,
   "metadata": {},
   "outputs": [],
   "source": [
    "# Adding a new column i.e. year\n",
    "ArrestsMade['Year'] = ArrestsMade['Date of Arrest'].dt.year"
   ]
  },
  {
   "cell_type": "code",
   "execution_count": 18,
   "metadata": {},
   "outputs": [
    {
     "data": {
      "text/html": [
       "<div>\n",
       "<style scoped>\n",
       "    .dataframe tbody tr th:only-of-type {\n",
       "        vertical-align: middle;\n",
       "    }\n",
       "\n",
       "    .dataframe tbody tr th {\n",
       "        vertical-align: top;\n",
       "    }\n",
       "\n",
       "    .dataframe thead th {\n",
       "        text-align: right;\n",
       "    }\n",
       "</style>\n",
       "<table border=\"1\" class=\"dataframe\">\n",
       "  <thead>\n",
       "    <tr style=\"text-align: right;\">\n",
       "      <th></th>\n",
       "      <th>Incident Id</th>\n",
       "      <th>Primary Charge</th>\n",
       "      <th>Street</th>\n",
       "      <th>City</th>\n",
       "      <th>State</th>\n",
       "      <th>Zipcode</th>\n",
       "      <th>Date of Arrest</th>\n",
       "      <th>Time of Arrest</th>\n",
       "      <th>Age</th>\n",
       "      <th>Race</th>\n",
       "      <th>Gender</th>\n",
       "      <th>Ethnicity</th>\n",
       "      <th>Type of Arrest</th>\n",
       "      <th>Drugs or Alcohol Present</th>\n",
       "      <th>Weapon Present</th>\n",
       "      <th>Disposition</th>\n",
       "      <th>latitude_longitude</th>\n",
       "      <th>Year</th>\n",
       "    </tr>\n",
       "  </thead>\n",
       "  <tbody>\n",
       "    <tr>\n",
       "      <td>0</td>\n",
       "      <td>40515</td>\n",
       "      <td>ASSAULT-SIMPLE</td>\n",
       "      <td>117 OLD DURHAM RD</td>\n",
       "      <td>CHAPEL HILL</td>\n",
       "      <td>NC</td>\n",
       "      <td>27517.0</td>\n",
       "      <td>2019-08-26</td>\n",
       "      <td>10:17 PM</td>\n",
       "      <td>25.0</td>\n",
       "      <td>W</td>\n",
       "      <td>F</td>\n",
       "      <td>N</td>\n",
       "      <td>ON VIEW</td>\n",
       "      <td>Y</td>\n",
       "      <td>UNARMED</td>\n",
       "      <td>CLEARED BY ARREST</td>\n",
       "      <td>35.94424056,-79.01174063</td>\n",
       "      <td>2019</td>\n",
       "    </tr>\n",
       "    <tr>\n",
       "      <td>1</td>\n",
       "      <td>40498</td>\n",
       "      <td>FAIL TO APPEAR/COMPL</td>\n",
       "      <td>214 W ROSEMARY ST</td>\n",
       "      <td>CHAPEL HILL</td>\n",
       "      <td>NC</td>\n",
       "      <td>27516.0</td>\n",
       "      <td>2019-08-26</td>\n",
       "      <td>8:51 AM</td>\n",
       "      <td>27.0</td>\n",
       "      <td>B</td>\n",
       "      <td>M</td>\n",
       "      <td>N</td>\n",
       "      <td>TAKEN INTO CUSTODY (WARRANT/LP)</td>\n",
       "      <td>N</td>\n",
       "      <td>UNARMED</td>\n",
       "      <td>CLEARED BY ARREST</td>\n",
       "      <td>35.913341985,-79.058293957</td>\n",
       "      <td>2019</td>\n",
       "    </tr>\n",
       "    <tr>\n",
       "      <td>2</td>\n",
       "      <td>40496</td>\n",
       "      <td>PUBLIC URINATION</td>\n",
       "      <td>107 EPHESUS CHURCH RD/LEGION RD</td>\n",
       "      <td>CHAPEL HILL</td>\n",
       "      <td>NC</td>\n",
       "      <td>27517.0</td>\n",
       "      <td>2019-08-26</td>\n",
       "      <td>8:15 PM</td>\n",
       "      <td>57.0</td>\n",
       "      <td>B</td>\n",
       "      <td>M</td>\n",
       "      <td>N</td>\n",
       "      <td>SUMMONED/CITED</td>\n",
       "      <td>Y</td>\n",
       "      <td>UNARMED</td>\n",
       "      <td>CLEARED BY ARREST</td>\n",
       "      <td>35.935056,-79.0219395</td>\n",
       "      <td>2019</td>\n",
       "    </tr>\n",
       "    <tr>\n",
       "      <td>3</td>\n",
       "      <td>40497</td>\n",
       "      <td>AFFRAY/ASSAULT &amp; BATTERY</td>\n",
       "      <td>117 OLD DURHAM RD</td>\n",
       "      <td>CHAPEL HILL</td>\n",
       "      <td>NC</td>\n",
       "      <td>27517.0</td>\n",
       "      <td>2019-08-26</td>\n",
       "      <td>10:17 PM</td>\n",
       "      <td>55.0</td>\n",
       "      <td>B</td>\n",
       "      <td>M</td>\n",
       "      <td>N</td>\n",
       "      <td>ON VIEW</td>\n",
       "      <td>Y</td>\n",
       "      <td>UNARMED</td>\n",
       "      <td>CLEARED BY ARREST</td>\n",
       "      <td>35.94424056,-79.01174063</td>\n",
       "      <td>2019</td>\n",
       "    </tr>\n",
       "    <tr>\n",
       "      <td>4</td>\n",
       "      <td>40495</td>\n",
       "      <td>ASSAULT-SIMPLE</td>\n",
       "      <td>233 MCCAULEY STREET</td>\n",
       "      <td>CHAPEL HILL</td>\n",
       "      <td>NC</td>\n",
       "      <td>27514.0</td>\n",
       "      <td>2019-08-26</td>\n",
       "      <td>7:27 AM</td>\n",
       "      <td>21.0</td>\n",
       "      <td>W</td>\n",
       "      <td>F</td>\n",
       "      <td>N</td>\n",
       "      <td>SUMMONED/CITED</td>\n",
       "      <td>N</td>\n",
       "      <td>UNARMED</td>\n",
       "      <td>CLEARED BY ARREST</td>\n",
       "      <td>35.907198362,-79.057233541</td>\n",
       "      <td>2019</td>\n",
       "    </tr>\n",
       "  </tbody>\n",
       "</table>\n",
       "</div>"
      ],
      "text/plain": [
       "   Incident Id            Primary Charge                           Street  \\\n",
       "0        40515            ASSAULT-SIMPLE                117 OLD DURHAM RD   \n",
       "1        40498      FAIL TO APPEAR/COMPL                214 W ROSEMARY ST   \n",
       "2        40496          PUBLIC URINATION  107 EPHESUS CHURCH RD/LEGION RD   \n",
       "3        40497  AFFRAY/ASSAULT & BATTERY                117 OLD DURHAM RD   \n",
       "4        40495            ASSAULT-SIMPLE              233 MCCAULEY STREET   \n",
       "\n",
       "          City State  Zipcode Date of Arrest Time of Arrest   Age Race Gender  \\\n",
       "0  CHAPEL HILL    NC  27517.0     2019-08-26       10:17 PM  25.0    W      F   \n",
       "1  CHAPEL HILL    NC  27516.0     2019-08-26        8:51 AM  27.0    B      M   \n",
       "2  CHAPEL HILL    NC  27517.0     2019-08-26        8:15 PM  57.0    B      M   \n",
       "3  CHAPEL HILL    NC  27517.0     2019-08-26       10:17 PM  55.0    B      M   \n",
       "4  CHAPEL HILL    NC  27514.0     2019-08-26        7:27 AM  21.0    W      F   \n",
       "\n",
       "  Ethnicity                   Type of Arrest Drugs or Alcohol Present  \\\n",
       "0         N                          ON VIEW                        Y   \n",
       "1         N  TAKEN INTO CUSTODY (WARRANT/LP)                        N   \n",
       "2         N                   SUMMONED/CITED                        Y   \n",
       "3         N                          ON VIEW                        Y   \n",
       "4         N                   SUMMONED/CITED                        N   \n",
       "\n",
       "  Weapon Present        Disposition          latitude_longitude  Year  \n",
       "0        UNARMED  CLEARED BY ARREST    35.94424056,-79.01174063  2019  \n",
       "1        UNARMED  CLEARED BY ARREST  35.913341985,-79.058293957  2019  \n",
       "2        UNARMED  CLEARED BY ARREST       35.935056,-79.0219395  2019  \n",
       "3        UNARMED  CLEARED BY ARREST    35.94424056,-79.01174063  2019  \n",
       "4        UNARMED  CLEARED BY ARREST  35.907198362,-79.057233541  2019  "
      ]
     },
     "execution_count": 18,
     "metadata": {},
     "output_type": "execute_result"
    }
   ],
   "source": [
    "# Displaying the data set after adding new column\n",
    "ArrestsMade.head()"
   ]
  },
  {
   "cell_type": "code",
   "execution_count": 19,
   "metadata": {},
   "outputs": [
    {
     "data": {
      "text/plain": [
       "(16254, 18)"
      ]
     },
     "execution_count": 19,
     "metadata": {},
     "output_type": "execute_result"
    }
   ],
   "source": [
    "ArrestsMade.shape"
   ]
  },
  {
   "cell_type": "code",
   "execution_count": 20,
   "metadata": {},
   "outputs": [
    {
     "data": {
      "text/plain": [
       "Incident Id                    0\n",
       "Primary Charge                 0\n",
       "Street                        14\n",
       "City                          48\n",
       "State                         73\n",
       "Zipcode                      888\n",
       "Date of Arrest                 0\n",
       "Time of Arrest                 0\n",
       "Age                          968\n",
       "Race                         969\n",
       "Gender                       969\n",
       "Ethnicity                   4926\n",
       "Type of Arrest                 1\n",
       "Drugs or Alcohol Present     349\n",
       "Weapon Present                94\n",
       "Disposition                    9\n",
       "latitude_longitude             0\n",
       "Year                           0\n",
       "dtype: int64"
      ]
     },
     "execution_count": 20,
     "metadata": {},
     "output_type": "execute_result"
    }
   ],
   "source": [
    "# Checking for null values \n",
    "ArrestsMade.isnull().sum()"
   ]
  },
  {
   "cell_type": "markdown",
   "metadata": {},
   "source": [
    "## Question : "
   ]
  },
  {
   "cell_type": "markdown",
   "metadata": {},
   "source": [
    "From 'Police Incidents Reports Written' and 'Police Arrests Made' : \n",
    "How many of the incidents reported in the year of 2019, 2018 and 2017 have ended up in arrests ? \n",
    "The answer could be in percentage or a quantiative number "
   ]
  },
  {
   "cell_type": "markdown",
   "metadata": {},
   "source": [
    "### Inconsistencies : "
   ]
  },
  {
   "cell_type": "markdown",
   "metadata": {},
   "source": [
    "To find the extact answer for the above question, My data sets should  have same values of Incident Ids. But, the data sets do not share same incident Id's. This is the inconsistency that these data sets are facing. \n",
    "\n",
    "However, ignoring the same Incident Id's and only considering the total value of incidents written and arrests made in a particular year , the below figure will describe the results."
   ]
  },
  {
   "cell_type": "code",
   "execution_count": 21,
   "metadata": {},
   "outputs": [],
   "source": [
    "# Grouping the data set by year\n",
    "g1 = ArrestsMade.groupby([ \"Year\"]).count().reset_index()"
   ]
  },
  {
   "cell_type": "code",
   "execution_count": 22,
   "metadata": {},
   "outputs": [],
   "source": [
    "# This cell declares a new data set\n",
    "# The group data set values are copied to this new data set\n",
    "finalArrestsMadeData = pd.DataFrame()\n",
    "finalArrestsMadeData['Year'] = g1['Year']\n",
    "finalArrestsMadeData ['Incidents'] = g1['Incident Id']"
   ]
  },
  {
   "cell_type": "code",
   "execution_count": 23,
   "metadata": {},
   "outputs": [
    {
     "data": {
      "text/html": [
       "<div>\n",
       "<style scoped>\n",
       "    .dataframe tbody tr th:only-of-type {\n",
       "        vertical-align: middle;\n",
       "    }\n",
       "\n",
       "    .dataframe tbody tr th {\n",
       "        vertical-align: top;\n",
       "    }\n",
       "\n",
       "    .dataframe thead th {\n",
       "        text-align: right;\n",
       "    }\n",
       "</style>\n",
       "<table border=\"1\" class=\"dataframe\">\n",
       "  <thead>\n",
       "    <tr style=\"text-align: right;\">\n",
       "      <th></th>\n",
       "      <th>Year</th>\n",
       "      <th>Incidents</th>\n",
       "    </tr>\n",
       "  </thead>\n",
       "  <tbody>\n",
       "    <tr>\n",
       "      <td>0</td>\n",
       "      <td>2010</td>\n",
       "      <td>1939</td>\n",
       "    </tr>\n",
       "    <tr>\n",
       "      <td>1</td>\n",
       "      <td>2011</td>\n",
       "      <td>1845</td>\n",
       "    </tr>\n",
       "    <tr>\n",
       "      <td>2</td>\n",
       "      <td>2012</td>\n",
       "      <td>1658</td>\n",
       "    </tr>\n",
       "    <tr>\n",
       "      <td>3</td>\n",
       "      <td>2013</td>\n",
       "      <td>1722</td>\n",
       "    </tr>\n",
       "    <tr>\n",
       "      <td>4</td>\n",
       "      <td>2014</td>\n",
       "      <td>1740</td>\n",
       "    </tr>\n",
       "    <tr>\n",
       "      <td>5</td>\n",
       "      <td>2015</td>\n",
       "      <td>1864</td>\n",
       "    </tr>\n",
       "    <tr>\n",
       "      <td>6</td>\n",
       "      <td>2016</td>\n",
       "      <td>1722</td>\n",
       "    </tr>\n",
       "    <tr>\n",
       "      <td>7</td>\n",
       "      <td>2017</td>\n",
       "      <td>1430</td>\n",
       "    </tr>\n",
       "    <tr>\n",
       "      <td>8</td>\n",
       "      <td>2018</td>\n",
       "      <td>1487</td>\n",
       "    </tr>\n",
       "    <tr>\n",
       "      <td>9</td>\n",
       "      <td>2019</td>\n",
       "      <td>847</td>\n",
       "    </tr>\n",
       "  </tbody>\n",
       "</table>\n",
       "</div>"
      ],
      "text/plain": [
       "   Year  Incidents\n",
       "0  2010       1939\n",
       "1  2011       1845\n",
       "2  2012       1658\n",
       "3  2013       1722\n",
       "4  2014       1740\n",
       "5  2015       1864\n",
       "6  2016       1722\n",
       "7  2017       1430\n",
       "8  2018       1487\n",
       "9  2019        847"
      ]
     },
     "execution_count": 23,
     "metadata": {},
     "output_type": "execute_result"
    }
   ],
   "source": [
    "# Displaying the data set. \n",
    "# This data holds the total number of arrestes made per year from 2010 to 2019\n",
    "finalArrestsMadeData"
   ]
  },
  {
   "cell_type": "code",
   "execution_count": 24,
   "metadata": {},
   "outputs": [
    {
     "data": {
      "image/png": "[encoded data removed]",
      "text/plain": [
       "<Figure size 720x576 with 1 Axes>"
      ]
     },
     "metadata": {
      "needs_background": "light"
     },
     "output_type": "display_data"
    }
   ],
   "source": [
    "# This cell plots the two data frames using for loop. \n",
    "# this will only work if to data sets have same number of columns, rows\n",
    "# Xticks are defind to label the uni size on x axis.\n",
    "fig = plt.figure(figsize=(10,8))\n",
    "for frame in [finalIncidentswrittenData, finalArrestsMadeData]:\n",
    "    plt.plot(frame['Year'], frame['Incidents'])\n",
    "_ = plt.legend(['Number of Incidents Written','Number of Arrests Made'])\n",
    "_ = plt.xticks(np.arange(2010, 2020, 1)) \n",
    "_ = plt.xlabel('Year')\n",
    "_ = plt.ylabel('Total Count')\n",
    "_ = plt.title('Incidents vs Arrests made per Year')"
   ]
  },
  {
   "cell_type": "markdown",
   "metadata": {},
   "source": [
    "## Hypothesis "
   ]
  },
  {
   "cell_type": "markdown",
   "metadata": {},
   "source": [
    "The majority victims of black race would be white race.I am making an hyothiesis that black race people are more friendly towards their own race. \n",
    "So this means that most of the arrests made of black people, their victims would be white race or any other race. \n",
    "\n",
    "This means that, there is a more chance that a black person robs white person instead of a black person. This vice versa may or may not be true."
   ]
  },
  {
   "cell_type": "code",
   "execution_count": 25,
   "metadata": {},
   "outputs": [],
   "source": [
    "# Copying the original data sets to duplicate data sets\n",
    "IncidentswrittenNanDropData = Incidentswritten\n",
    "ArrestsMadeNanDropData = ArrestsMade"
   ]
  },
  {
   "cell_type": "code",
   "execution_count": 26,
   "metadata": {},
   "outputs": [
    {
     "data": {
      "text/plain": [
       "W    26433\n",
       "B     9617\n",
       "A     1840\n",
       "U      997\n",
       "I      249\n",
       "O       53\n",
       "H        5\n",
       "Name: Victim Race, dtype: int64"
      ]
     },
     "execution_count": 26,
     "metadata": {},
     "output_type": "execute_result"
    }
   ],
   "source": [
    "# Checking the total unique races present in the first data set\n",
    "IncidentswrittenNanDropData['Victim Race'].value_counts()"
   ]
  },
  {
   "cell_type": "code",
   "execution_count": 27,
   "metadata": {},
   "outputs": [
    {
     "data": {
      "text/html": [
       "<div>\n",
       "<style scoped>\n",
       "    .dataframe tbody tr th:only-of-type {\n",
       "        vertical-align: middle;\n",
       "    }\n",
       "\n",
       "    .dataframe tbody tr th {\n",
       "        vertical-align: top;\n",
       "    }\n",
       "\n",
       "    .dataframe thead th {\n",
       "        text-align: right;\n",
       "    }\n",
       "</style>\n",
       "<table border=\"1\" class=\"dataframe\">\n",
       "  <thead>\n",
       "    <tr style=\"text-align: right;\">\n",
       "      <th></th>\n",
       "      <th>Incident ID</th>\n",
       "      <th>Agency</th>\n",
       "      <th>Offense</th>\n",
       "      <th>Street</th>\n",
       "      <th>City</th>\n",
       "      <th>State</th>\n",
       "      <th>Zipcode</th>\n",
       "      <th>Forcible</th>\n",
       "      <th>Date of Report</th>\n",
       "      <th>Hour of Report</th>\n",
       "      <th>...</th>\n",
       "      <th>Date Found</th>\n",
       "      <th>Hour Found</th>\n",
       "      <th>Reported As</th>\n",
       "      <th>Premise Description</th>\n",
       "      <th>Weapon Description</th>\n",
       "      <th>Victim Age</th>\n",
       "      <th>Victim Race</th>\n",
       "      <th>Victim Gender</th>\n",
       "      <th>latitude_longitude</th>\n",
       "      <th>Year</th>\n",
       "    </tr>\n",
       "  </thead>\n",
       "  <tbody>\n",
       "    <tr>\n",
       "      <td>0</td>\n",
       "      <td>173901</td>\n",
       "      <td>CHPD</td>\n",
       "      <td>B.A.R.S.  TRAINING</td>\n",
       "      <td>138 E FRANKLIN ST</td>\n",
       "      <td>CHAPEL HILL</td>\n",
       "      <td>NC</td>\n",
       "      <td>27514.0</td>\n",
       "      <td>NaN</td>\n",
       "      <td>2019-08-26</td>\n",
       "      <td>6:51 PM</td>\n",
       "      <td>...</td>\n",
       "      <td>2019-08-26</td>\n",
       "      <td>6:51 PM</td>\n",
       "      <td>MISC OFFICER IN</td>\n",
       "      <td>NaN</td>\n",
       "      <td>NaN</td>\n",
       "      <td>NaN</td>\n",
       "      <td>NaN</td>\n",
       "      <td>NaN</td>\n",
       "      <td>35.913620862,-79.054450482</td>\n",
       "      <td>2019</td>\n",
       "    </tr>\n",
       "    <tr>\n",
       "      <td>1</td>\n",
       "      <td>173853</td>\n",
       "      <td>CHPD</td>\n",
       "      <td>LARCENY OF CELL PHONE</td>\n",
       "      <td>409 W FRANKLIN ST</td>\n",
       "      <td>CHAPEL HILL</td>\n",
       "      <td>NC</td>\n",
       "      <td>27516.0</td>\n",
       "      <td>NaN</td>\n",
       "      <td>2019-08-25</td>\n",
       "      <td>6:30 AM</td>\n",
       "      <td>...</td>\n",
       "      <td>2019-08-25</td>\n",
       "      <td>6:00 AM</td>\n",
       "      <td>THEFT/LARCENY</td>\n",
       "      <td>NaN</td>\n",
       "      <td>NaN</td>\n",
       "      <td>42.0</td>\n",
       "      <td>W</td>\n",
       "      <td>M</td>\n",
       "      <td>35.910999851,-79.061257657</td>\n",
       "      <td>2019</td>\n",
       "    </tr>\n",
       "    <tr>\n",
       "      <td>2</td>\n",
       "      <td>173873</td>\n",
       "      <td>CHPD</td>\n",
       "      <td>SIMPLE POSSESSION</td>\n",
       "      <td>1050 MARTIN LUTHER KING JR BLVD/SHADOWOOD DR</td>\n",
       "      <td>CHAPEL HILL</td>\n",
       "      <td>NC</td>\n",
       "      <td>27514.0</td>\n",
       "      <td>NaN</td>\n",
       "      <td>2019-08-25</td>\n",
       "      <td>9:44 PM</td>\n",
       "      <td>...</td>\n",
       "      <td>2019-08-25</td>\n",
       "      <td>9:44 PM</td>\n",
       "      <td>TRAFFIC STOP</td>\n",
       "      <td>NaN</td>\n",
       "      <td>NaN</td>\n",
       "      <td>NaN</td>\n",
       "      <td>NaN</td>\n",
       "      <td>NaN</td>\n",
       "      <td>35.936784,-79.056441</td>\n",
       "      <td>2019</td>\n",
       "    </tr>\n",
       "    <tr>\n",
       "      <td>3</td>\n",
       "      <td>173869</td>\n",
       "      <td>CHPD</td>\n",
       "      <td>VIOLATION OF CUSTODY AGREEMENT</td>\n",
       "      <td>1100 NC 54</td>\n",
       "      <td>CHAPEL HILL</td>\n",
       "      <td>NC</td>\n",
       "      <td>27516.0</td>\n",
       "      <td>NaN</td>\n",
       "      <td>2019-08-25</td>\n",
       "      <td>5:40 PM</td>\n",
       "      <td>...</td>\n",
       "      <td>2019-08-25</td>\n",
       "      <td>5:40 PM</td>\n",
       "      <td>PUBLIC SERVICE</td>\n",
       "      <td>NaN</td>\n",
       "      <td>NaN</td>\n",
       "      <td>48.0</td>\n",
       "      <td>W</td>\n",
       "      <td>F</td>\n",
       "      <td>35.92490164,-79.138013157</td>\n",
       "      <td>2019</td>\n",
       "    </tr>\n",
       "    <tr>\n",
       "      <td>4</td>\n",
       "      <td>173867</td>\n",
       "      <td>CHPD</td>\n",
       "      <td>TOWED VEHICLE</td>\n",
       "      <td>200 E FRANKLIN ST</td>\n",
       "      <td>CHAPEL HILL</td>\n",
       "      <td>NC</td>\n",
       "      <td>27514.0</td>\n",
       "      <td>NaN</td>\n",
       "      <td>2019-08-25</td>\n",
       "      <td>4:17 PM</td>\n",
       "      <td>...</td>\n",
       "      <td>2019-08-25</td>\n",
       "      <td>4:17 PM</td>\n",
       "      <td>MISC OFFICER IN</td>\n",
       "      <td>NaN</td>\n",
       "      <td>NaN</td>\n",
       "      <td>NaN</td>\n",
       "      <td>NaN</td>\n",
       "      <td>NaN</td>\n",
       "      <td>35.914219462,-79.052808532</td>\n",
       "      <td>2019</td>\n",
       "    </tr>\n",
       "  </tbody>\n",
       "</table>\n",
       "<p>5 rows × 22 columns</p>\n",
       "</div>"
      ],
      "text/plain": [
       "   Incident ID Agency                         Offense  \\\n",
       "0       173901   CHPD              B.A.R.S.  TRAINING   \n",
       "1       173853   CHPD           LARCENY OF CELL PHONE   \n",
       "2       173873   CHPD               SIMPLE POSSESSION   \n",
       "3       173869   CHPD  VIOLATION OF CUSTODY AGREEMENT   \n",
       "4       173867   CHPD                   TOWED VEHICLE   \n",
       "\n",
       "                                         Street         City State  Zipcode  \\\n",
       "0                             138 E FRANKLIN ST  CHAPEL HILL    NC  27514.0   \n",
       "1                             409 W FRANKLIN ST  CHAPEL HILL    NC  27516.0   \n",
       "2  1050 MARTIN LUTHER KING JR BLVD/SHADOWOOD DR  CHAPEL HILL    NC  27514.0   \n",
       "3                                    1100 NC 54  CHAPEL HILL    NC  27516.0   \n",
       "4                             200 E FRANKLIN ST  CHAPEL HILL    NC  27514.0   \n",
       "\n",
       "  Forcible Date of Report Hour of Report  ...  Date Found Hour Found  \\\n",
       "0      NaN     2019-08-26        6:51 PM  ...  2019-08-26    6:51 PM   \n",
       "1      NaN     2019-08-25        6:30 AM  ...  2019-08-25    6:00 AM   \n",
       "2      NaN     2019-08-25        9:44 PM  ...  2019-08-25    9:44 PM   \n",
       "3      NaN     2019-08-25        5:40 PM  ...  2019-08-25    5:40 PM   \n",
       "4      NaN     2019-08-25        4:17 PM  ...  2019-08-25    4:17 PM   \n",
       "\n",
       "       Reported As Premise Description Weapon Description Victim Age  \\\n",
       "0  MISC OFFICER IN                 NaN                NaN        NaN   \n",
       "1    THEFT/LARCENY                 NaN                NaN       42.0   \n",
       "2     TRAFFIC STOP                 NaN                NaN        NaN   \n",
       "3   PUBLIC SERVICE                 NaN                NaN       48.0   \n",
       "4  MISC OFFICER IN                 NaN                NaN        NaN   \n",
       "\n",
       "  Victim Race  Victim Gender          latitude_longitude  Year  \n",
       "0         NaN            NaN  35.913620862,-79.054450482  2019  \n",
       "1           W              M  35.910999851,-79.061257657  2019  \n",
       "2         NaN            NaN        35.936784,-79.056441  2019  \n",
       "3           W              F   35.92490164,-79.138013157  2019  \n",
       "4         NaN            NaN  35.914219462,-79.052808532  2019  \n",
       "\n",
       "[5 rows x 22 columns]"
      ]
     },
     "execution_count": 27,
     "metadata": {},
     "output_type": "execute_result"
    }
   ],
   "source": [
    "IncidentswrittenNanDropData.head()"
   ]
  },
  {
   "cell_type": "markdown",
   "metadata": {},
   "source": [
    "Instead of checking the quantitative number, missing values can also be verified by visualization. Missingo library is used to plot this. "
   ]
  },
  {
   "cell_type": "code",
   "execution_count": 28,
   "metadata": {},
   "outputs": [
    {
     "data": {
      "image/png": "[encoded data removed]",
      "text/plain": [
       "<Figure size 1800x720 with 2 Axes>"
      ]
     },
     "metadata": {
      "needs_background": "light"
     },
     "output_type": "display_data"
    }
   ],
   "source": [
    "# Passing the data sets to the matrix function of missingo library\n",
    "_=msno.matrix(IncidentswrittenNanDropData)\n",
    "_ = plt.title('Missing data visualisation. White fields indicate NA’s')"
   ]
  },
  {
   "cell_type": "code",
   "execution_count": 29,
   "metadata": {},
   "outputs": [
    {
     "data": {
      "image/png": "[encoded data removed]",
      "text/plain": [
       "<Figure size 1800x720 with 2 Axes>"
      ]
     },
     "metadata": {
      "needs_background": "light"
     },
     "output_type": "display_data"
    }
   ],
   "source": [
    "# Passing the data sets to the matrix function of missingo library\n",
    "_=msno.matrix(ArrestsMadeNanDropData)\n",
    "_ = plt.title('Missing data visualisation. White fields indicate NA’s')"
   ]
  },
  {
   "cell_type": "markdown",
   "metadata": {},
   "source": [
    "Data Cleaning: \n",
    "    Since the race ans street values have Nan values and they are negligible when compared to the overall data. I decided to drop them. "
   ]
  },
  {
   "cell_type": "code",
   "execution_count": 30,
   "metadata": {},
   "outputs": [],
   "source": [
    "# Dropping Victim race column with Nan values\n",
    "IncidentswrittenNanDropData = IncidentswrittenNanDropData[pd.notnull(IncidentswrittenNanDropData['Victim Race'])]"
   ]
  },
  {
   "cell_type": "code",
   "execution_count": 31,
   "metadata": {},
   "outputs": [],
   "source": [
    "# Dropping Street column with Nan values\n",
    "IncidentswrittenNanDropData = IncidentswrittenNanDropData[pd.notnull(IncidentswrittenNanDropData['Street'])]"
   ]
  },
  {
   "cell_type": "code",
   "execution_count": 32,
   "metadata": {},
   "outputs": [],
   "source": [
    "# Dropping  race column with Nan values\n",
    "ArrestsMadeNanDropData = ArrestsMadeNanDropData[pd.notnull(ArrestsMadeNanDropData['Race'])]"
   ]
  },
  {
   "cell_type": "code",
   "execution_count": 33,
   "metadata": {},
   "outputs": [],
   "source": [
    "# Dropping  street column with Nan values\n",
    "ArrestsMadeNanDropData = ArrestsMadeNanDropData[pd.notnull(ArrestsMadeNanDropData['Street'])]"
   ]
  },
  {
   "cell_type": "code",
   "execution_count": 34,
   "metadata": {},
   "outputs": [
    {
     "data": {
      "text/plain": [
       "W    7418\n",
       "B    7376\n",
       "A     364\n",
       "H      56\n",
       "I      41\n",
       "O      13\n",
       "U       4\n",
       "Name: Race, dtype: int64"
      ]
     },
     "execution_count": 34,
     "metadata": {},
     "output_type": "execute_result"
    }
   ],
   "source": [
    "# Checking the total race unique values of second data set.\n",
    "ArrestsMadeNanDropData['Race'].value_counts()"
   ]
  },
  {
   "cell_type": "markdown",
   "metadata": {},
   "source": [
    "The below two for loops create a dictionary and appends key and values as street address and the race. \n",
    "These dictinoary is later used to comapre and find out the result."
   ]
  },
  {
   "cell_type": "code",
   "execution_count": 35,
   "metadata": {},
   "outputs": [],
   "source": [
    "# Empty declaration of dict\n",
    "# Looping over first data frame and appends keys and values to dict\n",
    "IncidentsWrittenandRace = {}\n",
    "for index , row in IncidentswrittenNanDropData.iterrows():\n",
    "    Key = row['Street']\n",
    "    val = row['Victim Race']\n",
    "    IncidentsWrittenandRace[Key] = val"
   ]
  },
  {
   "cell_type": "code",
   "execution_count": 36,
   "metadata": {},
   "outputs": [],
   "source": [
    "# Empty declaration of dict\n",
    "# Looping over first data frame and appends keys and values to dict\n",
    "ArrestsMadeandRace = {}\n",
    "for index , row in ArrestsMadeNanDropData.iterrows():\n",
    "    Key = row['Street']\n",
    "    val = row['Race']\n",
    "    ArrestsMadeandRace[Key] = val"
   ]
  },
  {
   "cell_type": "markdown",
   "metadata": {},
   "source": [
    "The below loop creates counter and increments them if found relevent match according to if conditions specified. \n",
    "These counters are later used to plot on a pie chart. \n",
    "This loop calcultated the total number of white victims of black and vice versa. "
   ]
  },
  {
   "cell_type": "code",
   "execution_count": 37,
   "metadata": {},
   "outputs": [],
   "source": [
    "# Declaring the empty counters.\n",
    "BlacktoWhiteCOunter = 0\n",
    "WhitetoBlackCounter = 0\n",
    "BlacktoBlackCounter = 0\n",
    "WhitetoWhiteCounter = 0\n",
    "# Looping over two dictinoaries \n",
    "# if the keys are same then the values are checked for conditions. \n",
    "for key1 in IncidentsWrittenandRace:\n",
    "    firstkey = key1\n",
    "    for key2 in ArrestsMadeandRace:\n",
    "        secondkey = key2\n",
    "        if(firstkey == secondkey):\n",
    "            if(IncidentsWrittenandRace[firstkey] == 'B' and ArrestsMadeandRace[secondkey] == 'B'):\n",
    "                BlacktoBlackCounter = BlacktoBlackCounter + 1\n",
    "            if(IncidentsWrittenandRace[firstkey] == 'W' and ArrestsMadeandRace[secondkey] == 'B'):\n",
    "                BlacktoWhiteCOunter = BlacktoWhiteCOunter + 1\n",
    "            if(IncidentsWrittenandRace[firstkey] == 'W' and ArrestsMadeandRace[secondkey] == 'W'):\n",
    "                WhitetoWhiteCounter = WhitetoWhiteCounter + 1\n",
    "            if(IncidentsWrittenandRace[firstkey] == 'B' and ArrestsMadeandRace[secondkey] == 'W'):\n",
    "                WhitetoBlackCounter = WhitetoBlackCounter + 1"
   ]
  },
  {
   "cell_type": "markdown",
   "metadata": {},
   "source": [
    "From the below graph, my hypothesis is found out to be true. The percentage of white victims to balck is higher than the vice versa. \n",
    "\n",
    "Along with this I tried to depict the victim percentages of same and different race and the analysis shows that white victims of white people is the highest. "
   ]
  },
  {
   "cell_type": "code",
   "execution_count": 38,
   "metadata": {},
   "outputs": [
    {
     "data": {
      "image/png": "[encoded data removed]",
      "text/plain": [
       "<Figure size 432x288 with 1 Axes>"
      ]
     },
     "metadata": {},
     "output_type": "display_data"
    }
   ],
   "source": [
    "# Pie chart representation of the above results.\n",
    "# Finalvalues represnt the part of pie which is later converted into percentage. \n",
    "# names are used as labels of pie. \n",
    "finalValues = [WhitetoBlackCounter, BlacktoWhiteCOunter, BlacktoBlackCounter, WhitetoWhiteCounter]\n",
    "names = ['Black victims of White', 'White VIctims of Black', 'Black victims of Black', 'White victims of White']\n",
    "plt.pie(finalValues, labels=names, startangle=90, autopct='%.1f%%')\n",
    "plt.show()"
   ]
  },
  {
   "cell_type": "markdown",
   "metadata": {},
   "source": [
    "## Question 2"
   ]
  },
  {
   "cell_type": "markdown",
   "metadata": {},
   "source": [
    "How many people who participated in illegal activites became victims at some or the other point of time ? The result is segregated amongst race. "
   ]
  },
  {
   "cell_type": "markdown",
   "metadata": {},
   "source": [
    "How this question helps ? "
   ]
  },
  {
   "cell_type": "markdown",
   "metadata": {},
   "source": [
    "By analysing with more python resources, we can depict that a person is involving into illegal activities based on his/her past i.e. if he/she have a terrible victim experience in the past, that might have turned them into what they are doing today."
   ]
  },
  {
   "cell_type": "code",
   "execution_count": 39,
   "metadata": {},
   "outputs": [],
   "source": [
    "# This cell copies the common values of the dictionaries I have created to a data frame. \n",
    "# This eventually gives the adress of people who participated in illegal activites and also have been victims at some or the other point. \n",
    "finalQuestionData = pd.DataFrame.from_dict(IncidentsWrittenandRace.items() & ArrestsMadeandRace.items())"
   ]
  },
  {
   "cell_type": "code",
   "execution_count": 40,
   "metadata": {},
   "outputs": [],
   "source": [
    "# Adding column names to the data frame\n",
    "finalQuestionData.columns = ['Address','Race']"
   ]
  },
  {
   "cell_type": "markdown",
   "metadata": {},
   "source": [
    "The Race abbrevation are Asian, Black, Native American, White respectively. "
   ]
  },
  {
   "cell_type": "code",
   "execution_count": 41,
   "metadata": {},
   "outputs": [
    {
     "data": {
      "text/html": [
       "<div>\n",
       "<style scoped>\n",
       "    .dataframe tbody tr th:only-of-type {\n",
       "        vertical-align: middle;\n",
       "    }\n",
       "\n",
       "    .dataframe tbody tr th {\n",
       "        vertical-align: top;\n",
       "    }\n",
       "\n",
       "    .dataframe thead th {\n",
       "        text-align: right;\n",
       "    }\n",
       "</style>\n",
       "<table border=\"1\" class=\"dataframe\">\n",
       "  <thead>\n",
       "    <tr style=\"text-align: right;\">\n",
       "      <th></th>\n",
       "      <th>Address</th>\n",
       "    </tr>\n",
       "    <tr>\n",
       "      <th>Race</th>\n",
       "      <th></th>\n",
       "    </tr>\n",
       "  </thead>\n",
       "  <tbody>\n",
       "    <tr>\n",
       "      <td>A</td>\n",
       "      <td>30</td>\n",
       "    </tr>\n",
       "    <tr>\n",
       "      <td>B</td>\n",
       "      <td>338</td>\n",
       "    </tr>\n",
       "    <tr>\n",
       "      <td>I</td>\n",
       "      <td>1</td>\n",
       "    </tr>\n",
       "    <tr>\n",
       "      <td>W</td>\n",
       "      <td>849</td>\n",
       "    </tr>\n",
       "  </tbody>\n",
       "</table>\n",
       "</div>"
      ],
      "text/plain": [
       "      Address\n",
       "Race         \n",
       "A          30\n",
       "B         338\n",
       "I           1\n",
       "W         849"
      ]
     },
     "execution_count": 41,
     "metadata": {},
     "output_type": "execute_result"
    }
   ],
   "source": [
    "# Grouping the data frame according to race. \n",
    "finalQuestionData.groupby(['Race']).count()"
   ]
  },
  {
   "cell_type": "code",
   "execution_count": 42,
   "metadata": {},
   "outputs": [
    {
     "data": {
      "image/png": "[encoded data removed]",
      "text/plain": [
       "<Figure size 432x288 with 1 Axes>"
      ]
     },
     "metadata": {
      "needs_background": "light"
     },
     "output_type": "display_data"
    }
   ],
   "source": [
    "# Plotting the group by values on a bar graph. \n",
    "_ = finalQuestionData.groupby(['Race']).count().plot(kind = 'barh')\n",
    "_ = plt.legend().remove()\n",
    "_ = plt.ylabel('Race')\n",
    "_ = plt.xlabel('Total Count')\n",
    "_ = plt.title('Total number of people who participated in illegal activites and also have been victims ')"
   ]
  },
  {
   "cell_type": "markdown",
   "metadata": {},
   "source": [
    "### Learning Objectives"
   ]
  },
  {
   "cell_type": "markdown",
   "metadata": {},
   "source": [
    "1. While proposing a data sets with certain questions and hypothesis, It is not for sure that the question is answerable. The data sets might have insufficent inforamtion to find out the answers. \n",
    "2. Learnt about visualization matrices which displayes null values on a graph. \n",
    "3. Learnt how to plot between two data frames in a single for loop."
   ]
  }
 ],
 "metadata": {
  "kernelspec": {
   "display_name": "Python 3",
   "language": "python",
   "name": "python3"
  },
  "language_info": {
   "codemirror_mode": {
    "name": "ipython",
    "version": 3
   },
   "file_extension": ".py",
   "mimetype": "text/x-python",
   "name": "python",
   "nbconvert_exporter": "python",
   "pygments_lexer": "ipython3",
   "version": "3.7.4"
  }
 },
 "nbformat": 4,
 "nbformat_minor": 2
}
